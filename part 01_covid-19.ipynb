{
 "cells": [
  {
   "cell_type": "code",
   "execution_count": 358,
   "metadata": {},
   "outputs": [],
   "source": [
    "import pandas as pd\n",
    "import seaborn as sns\n",
    "import numpy as np\n",
    "df_train = pd.read_excel(\"Train_dataset.xlsx\")\n",
    "df_to_predict = pd.read_excel(\"Test_dataset.xlsx\")"
   ]
  },
  {
   "cell_type": "code",
   "execution_count": 359,
   "metadata": {},
   "outputs": [
    {
     "data": {
      "text/html": [
       "<div>\n",
       "<style scoped>\n",
       "    .dataframe tbody tr th:only-of-type {\n",
       "        vertical-align: middle;\n",
       "    }\n",
       "\n",
       "    .dataframe tbody tr th {\n",
       "        vertical-align: top;\n",
       "    }\n",
       "\n",
       "    .dataframe thead th {\n",
       "        text-align: right;\n",
       "    }\n",
       "</style>\n",
       "<table border=\"1\" class=\"dataframe\">\n",
       "  <thead>\n",
       "    <tr style=\"text-align: right;\">\n",
       "      <th></th>\n",
       "      <th>people_ID</th>\n",
       "      <th>Region</th>\n",
       "      <th>Gender</th>\n",
       "      <th>Designation</th>\n",
       "      <th>Name</th>\n",
       "      <th>Married</th>\n",
       "      <th>Children</th>\n",
       "      <th>Occupation</th>\n",
       "      <th>Mode_transport</th>\n",
       "      <th>cases/1M</th>\n",
       "      <th>Deaths/1M</th>\n",
       "      <th>comorbidity</th>\n",
       "      <th>Age</th>\n",
       "      <th>Coma score</th>\n",
       "      <th>Pulmonary score</th>\n",
       "      <th>cardiological pressure</th>\n",
       "      <th>Diuresis</th>\n",
       "      <th>Platelets</th>\n",
       "      <th>HBB</th>\n",
       "      <th>d-dimer</th>\n",
       "      <th>Heart rate</th>\n",
       "      <th>HDL cholesterol</th>\n",
       "      <th>Charlson Index</th>\n",
       "      <th>Blood Glucose</th>\n",
       "      <th>Insurance</th>\n",
       "      <th>salary</th>\n",
       "      <th>FT/month</th>\n",
       "      <th>Infect_Prob</th>\n",
       "    </tr>\n",
       "  </thead>\n",
       "  <tbody>\n",
       "    <tr>\n",
       "      <th>0</th>\n",
       "      <td>1</td>\n",
       "      <td>Bhubaneshwar</td>\n",
       "      <td>Female</td>\n",
       "      <td>Mrs</td>\n",
       "      <td>mansi</td>\n",
       "      <td>YES</td>\n",
       "      <td>1.0</td>\n",
       "      <td>Farmer</td>\n",
       "      <td>Public</td>\n",
       "      <td>2</td>\n",
       "      <td>0</td>\n",
       "      <td>Hypertension</td>\n",
       "      <td>68</td>\n",
       "      <td>8</td>\n",
       "      <td>&lt;400</td>\n",
       "      <td>Normal</td>\n",
       "      <td>441.0</td>\n",
       "      <td>154.0</td>\n",
       "      <td>93.0</td>\n",
       "      <td>233.0</td>\n",
       "      <td>82.0</td>\n",
       "      <td>58.0</td>\n",
       "      <td>27</td>\n",
       "      <td>7</td>\n",
       "      <td>3600000.0</td>\n",
       "      <td>1300000</td>\n",
       "      <td>2.0</td>\n",
       "      <td>49.135010</td>\n",
       "    </tr>\n",
       "    <tr>\n",
       "      <th>1</th>\n",
       "      <td>2</td>\n",
       "      <td>Bhubaneshwar</td>\n",
       "      <td>Female</td>\n",
       "      <td>Mrs</td>\n",
       "      <td>riya masi</td>\n",
       "      <td>YES</td>\n",
       "      <td>2.0</td>\n",
       "      <td>Farmer</td>\n",
       "      <td>Walk</td>\n",
       "      <td>2</td>\n",
       "      <td>0</td>\n",
       "      <td>Diabetes</td>\n",
       "      <td>64</td>\n",
       "      <td>15</td>\n",
       "      <td>&lt;100</td>\n",
       "      <td>Stage-02</td>\n",
       "      <td>NaN</td>\n",
       "      <td>121.0</td>\n",
       "      <td>56.0</td>\n",
       "      <td>328.0</td>\n",
       "      <td>89.0</td>\n",
       "      <td>68.0</td>\n",
       "      <td>5</td>\n",
       "      <td>6</td>\n",
       "      <td>1600000.0</td>\n",
       "      <td>400000</td>\n",
       "      <td>1.0</td>\n",
       "      <td>51.147880</td>\n",
       "    </tr>\n",
       "    <tr>\n",
       "      <th>2</th>\n",
       "      <td>3</td>\n",
       "      <td>Bhubaneshwar</td>\n",
       "      <td>Female</td>\n",
       "      <td>Mrs</td>\n",
       "      <td>sunita</td>\n",
       "      <td>NO</td>\n",
       "      <td>1.0</td>\n",
       "      <td>Cleaner</td>\n",
       "      <td>Public</td>\n",
       "      <td>2</td>\n",
       "      <td>0</td>\n",
       "      <td>None</td>\n",
       "      <td>19</td>\n",
       "      <td>13</td>\n",
       "      <td>&lt;300</td>\n",
       "      <td>Elevated</td>\n",
       "      <td>416.0</td>\n",
       "      <td>124.0</td>\n",
       "      <td>137.0</td>\n",
       "      <td>213.0</td>\n",
       "      <td>77.0</td>\n",
       "      <td>43.0</td>\n",
       "      <td>40</td>\n",
       "      <td>6</td>\n",
       "      <td>3400000.0</td>\n",
       "      <td>900000</td>\n",
       "      <td>1.0</td>\n",
       "      <td>73.224000</td>\n",
       "    </tr>\n",
       "    <tr>\n",
       "      <th>3</th>\n",
       "      <td>4</td>\n",
       "      <td>Bhubaneshwar</td>\n",
       "      <td>Female</td>\n",
       "      <td>Mrs</td>\n",
       "      <td>anjali @ babli</td>\n",
       "      <td>YES</td>\n",
       "      <td>1.0</td>\n",
       "      <td>Driver</td>\n",
       "      <td>Car</td>\n",
       "      <td>2</td>\n",
       "      <td>0</td>\n",
       "      <td>Coronary Heart Disease</td>\n",
       "      <td>33</td>\n",
       "      <td>9</td>\n",
       "      <td>&lt;200</td>\n",
       "      <td>Stage-01</td>\n",
       "      <td>410.0</td>\n",
       "      <td>98.0</td>\n",
       "      <td>167.0</td>\n",
       "      <td>275.0</td>\n",
       "      <td>64.0</td>\n",
       "      <td>60.0</td>\n",
       "      <td>27</td>\n",
       "      <td>7</td>\n",
       "      <td>700000.0</td>\n",
       "      <td>2300000</td>\n",
       "      <td>1.0</td>\n",
       "      <td>48.779225</td>\n",
       "    </tr>\n",
       "    <tr>\n",
       "      <th>4</th>\n",
       "      <td>5</td>\n",
       "      <td>Bhubaneshwar</td>\n",
       "      <td>Female</td>\n",
       "      <td>Mrs</td>\n",
       "      <td>champa karketta</td>\n",
       "      <td>NO</td>\n",
       "      <td>2.0</td>\n",
       "      <td>Manufacturing</td>\n",
       "      <td>Car</td>\n",
       "      <td>2</td>\n",
       "      <td>0</td>\n",
       "      <td>Diabetes</td>\n",
       "      <td>23</td>\n",
       "      <td>7</td>\n",
       "      <td>&lt;400</td>\n",
       "      <td>Normal</td>\n",
       "      <td>390.0</td>\n",
       "      <td>21.0</td>\n",
       "      <td>153.0</td>\n",
       "      <td>331.0</td>\n",
       "      <td>71.0</td>\n",
       "      <td>64.0</td>\n",
       "      <td>32</td>\n",
       "      <td>7</td>\n",
       "      <td>3200000.0</td>\n",
       "      <td>1100000</td>\n",
       "      <td>1.0</td>\n",
       "      <td>87.868800</td>\n",
       "    </tr>\n",
       "  </tbody>\n",
       "</table>\n",
       "</div>"
      ],
      "text/plain": [
       "   people_ID        Region  Gender Designation             Name Married  \\\n",
       "0          1  Bhubaneshwar  Female         Mrs            mansi     YES   \n",
       "1          2  Bhubaneshwar  Female         Mrs        riya masi     YES   \n",
       "2          3  Bhubaneshwar  Female         Mrs           sunita      NO   \n",
       "3          4  Bhubaneshwar  Female         Mrs   anjali @ babli     YES   \n",
       "4          5  Bhubaneshwar  Female         Mrs  champa karketta      NO   \n",
       "\n",
       "   Children     Occupation Mode_transport  cases/1M  Deaths/1M  \\\n",
       "0       1.0         Farmer         Public         2          0   \n",
       "1       2.0         Farmer           Walk         2          0   \n",
       "2       1.0        Cleaner         Public         2          0   \n",
       "3       1.0         Driver            Car         2          0   \n",
       "4       2.0  Manufacturing            Car         2          0   \n",
       "\n",
       "              comorbidity  Age  Coma score Pulmonary score  \\\n",
       "0            Hypertension   68           8            <400   \n",
       "1                Diabetes   64          15            <100   \n",
       "2                    None   19          13            <300   \n",
       "3  Coronary Heart Disease   33           9            <200   \n",
       "4                Diabetes   23           7            <400   \n",
       "\n",
       "  cardiological pressure  Diuresis  Platelets    HBB  d-dimer  Heart rate  \\\n",
       "0                 Normal     441.0      154.0   93.0    233.0        82.0   \n",
       "1               Stage-02       NaN      121.0   56.0    328.0        89.0   \n",
       "2               Elevated     416.0      124.0  137.0    213.0        77.0   \n",
       "3               Stage-01     410.0       98.0  167.0    275.0        64.0   \n",
       "4                 Normal     390.0       21.0  153.0    331.0        71.0   \n",
       "\n",
       "   HDL cholesterol  Charlson Index  Blood Glucose  Insurance   salary  \\\n",
       "0             58.0              27              7  3600000.0  1300000   \n",
       "1             68.0               5              6  1600000.0   400000   \n",
       "2             43.0              40              6  3400000.0   900000   \n",
       "3             60.0              27              7   700000.0  2300000   \n",
       "4             64.0              32              7  3200000.0  1100000   \n",
       "\n",
       "   FT/month  Infect_Prob  \n",
       "0       2.0    49.135010  \n",
       "1       1.0    51.147880  \n",
       "2       1.0    73.224000  \n",
       "3       1.0    48.779225  \n",
       "4       1.0    87.868800  "
      ]
     },
     "execution_count": 359,
     "metadata": {},
     "output_type": "execute_result"
    }
   ],
   "source": [
    "df_train.head()"
   ]
  },
  {
   "cell_type": "code",
   "execution_count": 360,
   "metadata": {},
   "outputs": [
    {
     "data": {
      "text/plain": [
       "(10714, 9)"
      ]
     },
     "execution_count": 360,
     "metadata": {},
     "output_type": "execute_result"
    }
   ],
   "source": [
    "df.shape"
   ]
  },
  {
   "cell_type": "code",
   "execution_count": 361,
   "metadata": {},
   "outputs": [
    {
     "data": {
      "text/html": [
       "<div>\n",
       "<style scoped>\n",
       "    .dataframe tbody tr th:only-of-type {\n",
       "        vertical-align: middle;\n",
       "    }\n",
       "\n",
       "    .dataframe tbody tr th {\n",
       "        vertical-align: top;\n",
       "    }\n",
       "\n",
       "    .dataframe thead th {\n",
       "        text-align: right;\n",
       "    }\n",
       "</style>\n",
       "<table border=\"1\" class=\"dataframe\">\n",
       "  <thead>\n",
       "    <tr style=\"text-align: right;\">\n",
       "      <th></th>\n",
       "      <th>people_ID</th>\n",
       "      <th>Region</th>\n",
       "      <th>Gender</th>\n",
       "      <th>Designation</th>\n",
       "      <th>Name</th>\n",
       "      <th>Married</th>\n",
       "      <th>Children</th>\n",
       "      <th>Occupation</th>\n",
       "      <th>Mode_transport</th>\n",
       "      <th>cases/1M</th>\n",
       "      <th>Deaths/1M</th>\n",
       "      <th>comorbidity</th>\n",
       "      <th>Age</th>\n",
       "      <th>Coma score</th>\n",
       "      <th>Pulmonary score</th>\n",
       "      <th>cardiological pressure</th>\n",
       "      <th>Diuresis</th>\n",
       "      <th>Platelets</th>\n",
       "      <th>HBB</th>\n",
       "      <th>d-dimer</th>\n",
       "      <th>Heart rate</th>\n",
       "      <th>HDL cholesterol</th>\n",
       "      <th>Charlson Index</th>\n",
       "      <th>Blood Glucose</th>\n",
       "      <th>Insurance</th>\n",
       "      <th>salary</th>\n",
       "      <th>FT/month</th>\n",
       "      <th>Infect_Prob</th>\n",
       "    </tr>\n",
       "  </thead>\n",
       "  <tbody>\n",
       "    <tr>\n",
       "      <th>0</th>\n",
       "      <td>1</td>\n",
       "      <td>Bhubaneshwar</td>\n",
       "      <td>Female</td>\n",
       "      <td>Mrs</td>\n",
       "      <td>mansi</td>\n",
       "      <td>YES</td>\n",
       "      <td>1.0</td>\n",
       "      <td>Farmer</td>\n",
       "      <td>Public</td>\n",
       "      <td>2</td>\n",
       "      <td>0</td>\n",
       "      <td>Hypertension</td>\n",
       "      <td>68</td>\n",
       "      <td>8</td>\n",
       "      <td>&lt;400</td>\n",
       "      <td>Normal</td>\n",
       "      <td>441.0</td>\n",
       "      <td>154.0</td>\n",
       "      <td>93.0</td>\n",
       "      <td>233.0</td>\n",
       "      <td>82.0</td>\n",
       "      <td>58.0</td>\n",
       "      <td>27</td>\n",
       "      <td>7</td>\n",
       "      <td>3600000.0</td>\n",
       "      <td>1300000</td>\n",
       "      <td>2.0</td>\n",
       "      <td>49.135010</td>\n",
       "    </tr>\n",
       "    <tr>\n",
       "      <th>1</th>\n",
       "      <td>2</td>\n",
       "      <td>Bhubaneshwar</td>\n",
       "      <td>Female</td>\n",
       "      <td>Mrs</td>\n",
       "      <td>riya masi</td>\n",
       "      <td>YES</td>\n",
       "      <td>2.0</td>\n",
       "      <td>Farmer</td>\n",
       "      <td>Walk</td>\n",
       "      <td>2</td>\n",
       "      <td>0</td>\n",
       "      <td>Diabetes</td>\n",
       "      <td>64</td>\n",
       "      <td>15</td>\n",
       "      <td>&lt;100</td>\n",
       "      <td>Stage-02</td>\n",
       "      <td>NaN</td>\n",
       "      <td>121.0</td>\n",
       "      <td>56.0</td>\n",
       "      <td>328.0</td>\n",
       "      <td>89.0</td>\n",
       "      <td>68.0</td>\n",
       "      <td>5</td>\n",
       "      <td>6</td>\n",
       "      <td>1600000.0</td>\n",
       "      <td>400000</td>\n",
       "      <td>1.0</td>\n",
       "      <td>51.147880</td>\n",
       "    </tr>\n",
       "    <tr>\n",
       "      <th>2</th>\n",
       "      <td>3</td>\n",
       "      <td>Bhubaneshwar</td>\n",
       "      <td>Female</td>\n",
       "      <td>Mrs</td>\n",
       "      <td>sunita</td>\n",
       "      <td>NO</td>\n",
       "      <td>1.0</td>\n",
       "      <td>Cleaner</td>\n",
       "      <td>Public</td>\n",
       "      <td>2</td>\n",
       "      <td>0</td>\n",
       "      <td>None</td>\n",
       "      <td>19</td>\n",
       "      <td>13</td>\n",
       "      <td>&lt;300</td>\n",
       "      <td>Elevated</td>\n",
       "      <td>416.0</td>\n",
       "      <td>124.0</td>\n",
       "      <td>137.0</td>\n",
       "      <td>213.0</td>\n",
       "      <td>77.0</td>\n",
       "      <td>43.0</td>\n",
       "      <td>40</td>\n",
       "      <td>6</td>\n",
       "      <td>3400000.0</td>\n",
       "      <td>900000</td>\n",
       "      <td>1.0</td>\n",
       "      <td>73.224000</td>\n",
       "    </tr>\n",
       "    <tr>\n",
       "      <th>3</th>\n",
       "      <td>4</td>\n",
       "      <td>Bhubaneshwar</td>\n",
       "      <td>Female</td>\n",
       "      <td>Mrs</td>\n",
       "      <td>anjali @ babli</td>\n",
       "      <td>YES</td>\n",
       "      <td>1.0</td>\n",
       "      <td>Driver</td>\n",
       "      <td>Car</td>\n",
       "      <td>2</td>\n",
       "      <td>0</td>\n",
       "      <td>Coronary Heart Disease</td>\n",
       "      <td>33</td>\n",
       "      <td>9</td>\n",
       "      <td>&lt;200</td>\n",
       "      <td>Stage-01</td>\n",
       "      <td>410.0</td>\n",
       "      <td>98.0</td>\n",
       "      <td>167.0</td>\n",
       "      <td>275.0</td>\n",
       "      <td>64.0</td>\n",
       "      <td>60.0</td>\n",
       "      <td>27</td>\n",
       "      <td>7</td>\n",
       "      <td>700000.0</td>\n",
       "      <td>2300000</td>\n",
       "      <td>1.0</td>\n",
       "      <td>48.779225</td>\n",
       "    </tr>\n",
       "    <tr>\n",
       "      <th>4</th>\n",
       "      <td>5</td>\n",
       "      <td>Bhubaneshwar</td>\n",
       "      <td>Female</td>\n",
       "      <td>Mrs</td>\n",
       "      <td>champa karketta</td>\n",
       "      <td>NO</td>\n",
       "      <td>2.0</td>\n",
       "      <td>Manufacturing</td>\n",
       "      <td>Car</td>\n",
       "      <td>2</td>\n",
       "      <td>0</td>\n",
       "      <td>Diabetes</td>\n",
       "      <td>23</td>\n",
       "      <td>7</td>\n",
       "      <td>&lt;400</td>\n",
       "      <td>Normal</td>\n",
       "      <td>390.0</td>\n",
       "      <td>21.0</td>\n",
       "      <td>153.0</td>\n",
       "      <td>331.0</td>\n",
       "      <td>71.0</td>\n",
       "      <td>64.0</td>\n",
       "      <td>32</td>\n",
       "      <td>7</td>\n",
       "      <td>3200000.0</td>\n",
       "      <td>1100000</td>\n",
       "      <td>1.0</td>\n",
       "      <td>87.868800</td>\n",
       "    </tr>\n",
       "  </tbody>\n",
       "</table>\n",
       "</div>"
      ],
      "text/plain": [
       "   people_ID        Region  Gender Designation             Name Married  \\\n",
       "0          1  Bhubaneshwar  Female         Mrs            mansi     YES   \n",
       "1          2  Bhubaneshwar  Female         Mrs        riya masi     YES   \n",
       "2          3  Bhubaneshwar  Female         Mrs           sunita      NO   \n",
       "3          4  Bhubaneshwar  Female         Mrs   anjali @ babli     YES   \n",
       "4          5  Bhubaneshwar  Female         Mrs  champa karketta      NO   \n",
       "\n",
       "   Children     Occupation Mode_transport  cases/1M  Deaths/1M  \\\n",
       "0       1.0         Farmer         Public         2          0   \n",
       "1       2.0         Farmer           Walk         2          0   \n",
       "2       1.0        Cleaner         Public         2          0   \n",
       "3       1.0         Driver            Car         2          0   \n",
       "4       2.0  Manufacturing            Car         2          0   \n",
       "\n",
       "              comorbidity  Age  Coma score Pulmonary score  \\\n",
       "0            Hypertension   68           8            <400   \n",
       "1                Diabetes   64          15            <100   \n",
       "2                    None   19          13            <300   \n",
       "3  Coronary Heart Disease   33           9            <200   \n",
       "4                Diabetes   23           7            <400   \n",
       "\n",
       "  cardiological pressure  Diuresis  Platelets    HBB  d-dimer  Heart rate  \\\n",
       "0                 Normal     441.0      154.0   93.0    233.0        82.0   \n",
       "1               Stage-02       NaN      121.0   56.0    328.0        89.0   \n",
       "2               Elevated     416.0      124.0  137.0    213.0        77.0   \n",
       "3               Stage-01     410.0       98.0  167.0    275.0        64.0   \n",
       "4                 Normal     390.0       21.0  153.0    331.0        71.0   \n",
       "\n",
       "   HDL cholesterol  Charlson Index  Blood Glucose  Insurance   salary  \\\n",
       "0             58.0              27              7  3600000.0  1300000   \n",
       "1             68.0               5              6  1600000.0   400000   \n",
       "2             43.0              40              6  3400000.0   900000   \n",
       "3             60.0              27              7   700000.0  2300000   \n",
       "4             64.0              32              7  3200000.0  1100000   \n",
       "\n",
       "   FT/month  Infect_Prob  \n",
       "0       2.0    49.135010  \n",
       "1       1.0    51.147880  \n",
       "2       1.0    73.224000  \n",
       "3       1.0    48.779225  \n",
       "4       1.0    87.868800  "
      ]
     },
     "execution_count": 361,
     "metadata": {},
     "output_type": "execute_result"
    }
   ],
   "source": [
    "df_train.head()"
   ]
  },
  {
   "cell_type": "code",
   "execution_count": 362,
   "metadata": {},
   "outputs": [
    {
     "data": {
      "text/plain": [
       "people_ID                    0\n",
       "Region                       0\n",
       "Gender                       0\n",
       "Designation                  0\n",
       "Name                        20\n",
       "Married                      0\n",
       "Children                   311\n",
       "Occupation                 747\n",
       "Mode_transport               3\n",
       "cases/1M                     0\n",
       "Deaths/1M                    0\n",
       "comorbidity                226\n",
       "Age                          0\n",
       "Coma score                   0\n",
       "Pulmonary score              0\n",
       "cardiological pressure      97\n",
       "Diuresis                   716\n",
       "Platelets                  924\n",
       "HBB                         16\n",
       "d-dimer                   1114\n",
       "Heart rate                1114\n",
       "HDL cholesterol             35\n",
       "Charlson Index               0\n",
       "Blood Glucose                0\n",
       "Insurance                 1090\n",
       "salary                       0\n",
       "FT/month                   723\n",
       "Infect_Prob                  0\n",
       "dtype: int64"
      ]
     },
     "execution_count": 362,
     "metadata": {},
     "output_type": "execute_result"
    }
   ],
   "source": [
    "# we have to Check for null values in the dataset\n",
    "df_train.isnull().sum()"
   ]
  },
  {
   "cell_type": "code",
   "execution_count": 363,
   "metadata": {},
   "outputs": [
    {
     "name": "stdout",
     "output_type": "stream",
     "text": [
      "Number of rows in training dataset (10714, 28)\n",
      "Number of rows in prediction dataset (14498, 27)\n"
     ]
    }
   ],
   "source": [
    "print(\"Number of rows in training dataset\",df_train.shape)\n",
    "print(\"Number of rows in prediction dataset\",df_to_predict.shape)"
   ]
  },
  {
   "cell_type": "code",
   "execution_count": 364,
   "metadata": {},
   "outputs": [
    {
     "name": "stdout",
     "output_type": "stream",
     "text": [
      "               Name  Children     Occupation Mode_transport  \\\n",
      "1         riya masi       2.0         Farmer           Walk   \n",
      "6              iqra       2.0  Manufacturing            Car   \n",
      "8     kalyani patro       2.0          Sales         Public   \n",
      "12  karina @ kavita       NaN            NaN         Public   \n",
      "14         subhadra       2.0  Manufacturing         Public   \n",
      "\n",
      "               comorbidity cardiological pressure  Diuresis  Platelets    HBB  \\\n",
      "1                 Diabetes               Stage-02       NaN      121.0   56.0   \n",
      "6   Coronary Heart Disease                 Normal       NaN       75.0  156.0   \n",
      "8             Hypertension               Stage-01     310.0        NaN  156.0   \n",
      "12                Diabetes               Stage-01     403.0       39.0  174.0   \n",
      "14  Coronary Heart Disease               Stage-01     382.0        NaN   24.0   \n",
      "\n",
      "    d-dimer  Heart rate  HDL cholesterol  Insurance  FT/month  \n",
      "1     328.0        89.0             68.0  1600000.0       1.0  \n",
      "6     311.0        99.0             68.0  4000000.0       1.0  \n",
      "8       NaN         NaN             37.0  4500000.0       0.0  \n",
      "12    213.0        98.0             43.0        NaN       2.0  \n",
      "14      NaN         NaN             38.0  2500000.0       1.0  \n"
     ]
    }
   ],
   "source": [
    "# noe lets check null column values\n",
    "null_columns=df_train.columns[df_train.isnull().any()]\n",
    "print(df_train[df_train.isnull().any(axis=1)][null_columns].head())"
   ]
  },
  {
   "cell_type": "code",
   "execution_count": 365,
   "metadata": {},
   "outputs": [],
   "source": [
    "# hey now drop null column values\n",
    "df_train.dropna(inplace=True)"
   ]
  },
  {
   "cell_type": "code",
   "execution_count": 366,
   "metadata": {},
   "outputs": [
    {
     "name": "stdout",
     "output_type": "stream",
     "text": [
      "Total Duplicate Rows except first occurrence based on all columns are :\n"
     ]
    },
    {
     "data": {
      "text/plain": [
       "(0, 28)"
      ]
     },
     "execution_count": 366,
     "metadata": {},
     "output_type": "execute_result"
    }
   ],
   "source": [
    "# we are going to select duplicate rows except first occurrence based on all columns\n",
    "duplicateRowsDF = df_train[df_train.duplicated()]\n",
    "print(\"Total Duplicate Rows except first occurrence based on all columns are :\")\n",
    "duplicateRowsDF.shape"
   ]
  },
  {
   "cell_type": "code",
   "execution_count": 367,
   "metadata": {},
   "outputs": [
    {
     "data": {
      "text/plain": [
       "people_ID                 0\n",
       "Region                    0\n",
       "Gender                    0\n",
       "Designation               0\n",
       "Name                      0\n",
       "Married                   0\n",
       "Children                  0\n",
       "Occupation                0\n",
       "Mode_transport            0\n",
       "cases/1M                  0\n",
       "Deaths/1M                 0\n",
       "comorbidity               0\n",
       "Age                       0\n",
       "Coma score                0\n",
       "Pulmonary score           0\n",
       "cardiological pressure    0\n",
       "Diuresis                  0\n",
       "Platelets                 0\n",
       "HBB                       0\n",
       "d-dimer                   0\n",
       "Heart rate                0\n",
       "HDL cholesterol           0\n",
       "Charlson Index            0\n",
       "Blood Glucose             0\n",
       "Insurance                 0\n",
       "salary                    0\n",
       "FT/month                  0\n",
       "Infect_Prob               0\n",
       "dtype: int64"
      ]
     },
     "execution_count": 367,
     "metadata": {},
     "output_type": "execute_result"
    }
   ],
   "source": [
    "df_train.isnull().sum()"
   ]
  },
  {
   "cell_type": "code",
   "execution_count": 368,
   "metadata": {},
   "outputs": [],
   "source": [
    "# now clerly remove duplicate rows in training dataset\n",
    "df_train.drop_duplicates(keep='first',inplace=True)"
   ]
  },
  {
   "cell_type": "code",
   "execution_count": 369,
   "metadata": {},
   "outputs": [
    {
     "data": {
      "text/html": [
       "<div>\n",
       "<style scoped>\n",
       "    .dataframe tbody tr th:only-of-type {\n",
       "        vertical-align: middle;\n",
       "    }\n",
       "\n",
       "    .dataframe tbody tr th {\n",
       "        vertical-align: top;\n",
       "    }\n",
       "\n",
       "    .dataframe thead th {\n",
       "        text-align: right;\n",
       "    }\n",
       "</style>\n",
       "<table border=\"1\" class=\"dataframe\">\n",
       "  <thead>\n",
       "    <tr style=\"text-align: right;\">\n",
       "      <th></th>\n",
       "      <th>people_ID</th>\n",
       "      <th>Region</th>\n",
       "      <th>Gender</th>\n",
       "      <th>Designation</th>\n",
       "      <th>Name</th>\n",
       "      <th>Married</th>\n",
       "      <th>Children</th>\n",
       "      <th>Occupation</th>\n",
       "      <th>Mode_transport</th>\n",
       "      <th>cases/1M</th>\n",
       "      <th>Deaths/1M</th>\n",
       "      <th>comorbidity</th>\n",
       "      <th>Age</th>\n",
       "      <th>Coma score</th>\n",
       "      <th>Pulmonary score</th>\n",
       "      <th>cardiological pressure</th>\n",
       "      <th>Diuresis</th>\n",
       "      <th>Platelets</th>\n",
       "      <th>HBB</th>\n",
       "      <th>d-dimer</th>\n",
       "      <th>Heart rate</th>\n",
       "      <th>HDL cholesterol</th>\n",
       "      <th>Charlson Index</th>\n",
       "      <th>Blood Glucose</th>\n",
       "      <th>Insurance</th>\n",
       "      <th>salary</th>\n",
       "      <th>FT/month</th>\n",
       "    </tr>\n",
       "  </thead>\n",
       "  <tbody>\n",
       "    <tr>\n",
       "      <th>0</th>\n",
       "      <td>5942</td>\n",
       "      <td>Delhi</td>\n",
       "      <td>Female</td>\n",
       "      <td>Mrs</td>\n",
       "      <td>smt rekha prajapat</td>\n",
       "      <td>YES</td>\n",
       "      <td>2</td>\n",
       "      <td>Driver</td>\n",
       "      <td>Public</td>\n",
       "      <td>4</td>\n",
       "      <td>1</td>\n",
       "      <td>Diabetes</td>\n",
       "      <td>52</td>\n",
       "      <td>3</td>\n",
       "      <td>&lt;200</td>\n",
       "      <td>Stage-01</td>\n",
       "      <td>388</td>\n",
       "      <td>153</td>\n",
       "      <td>196</td>\n",
       "      <td>240</td>\n",
       "      <td>85</td>\n",
       "      <td>53</td>\n",
       "      <td>17</td>\n",
       "      <td>3</td>\n",
       "      <td>3900000</td>\n",
       "      <td>1300000</td>\n",
       "      <td>1</td>\n",
       "    </tr>\n",
       "    <tr>\n",
       "      <th>1</th>\n",
       "      <td>18664</td>\n",
       "      <td>Delhi</td>\n",
       "      <td>Male</td>\n",
       "      <td>Mr</td>\n",
       "      <td>nirmal</td>\n",
       "      <td>YES</td>\n",
       "      <td>2</td>\n",
       "      <td>Legal</td>\n",
       "      <td>Walk</td>\n",
       "      <td>4</td>\n",
       "      <td>1</td>\n",
       "      <td>Diabetes</td>\n",
       "      <td>53</td>\n",
       "      <td>11</td>\n",
       "      <td>&lt;200</td>\n",
       "      <td>Stage-01</td>\n",
       "      <td>409</td>\n",
       "      <td>95</td>\n",
       "      <td>138</td>\n",
       "      <td>241</td>\n",
       "      <td>81</td>\n",
       "      <td>61</td>\n",
       "      <td>2</td>\n",
       "      <td>5</td>\n",
       "      <td>1800000</td>\n",
       "      <td>1300000</td>\n",
       "      <td>1</td>\n",
       "    </tr>\n",
       "    <tr>\n",
       "      <th>2</th>\n",
       "      <td>5603</td>\n",
       "      <td>Delhi</td>\n",
       "      <td>Female</td>\n",
       "      <td>Mrs</td>\n",
       "      <td>pinky</td>\n",
       "      <td>YES</td>\n",
       "      <td>2</td>\n",
       "      <td>Sales</td>\n",
       "      <td>Car</td>\n",
       "      <td>4</td>\n",
       "      <td>1</td>\n",
       "      <td>Diabetes</td>\n",
       "      <td>35</td>\n",
       "      <td>9</td>\n",
       "      <td>&lt;100</td>\n",
       "      <td>Stage-02</td>\n",
       "      <td>440</td>\n",
       "      <td>40</td>\n",
       "      <td>166</td>\n",
       "      <td>236</td>\n",
       "      <td>88</td>\n",
       "      <td>47</td>\n",
       "      <td>24</td>\n",
       "      <td>3</td>\n",
       "      <td>5000000</td>\n",
       "      <td>2000000</td>\n",
       "      <td>2</td>\n",
       "    </tr>\n",
       "    <tr>\n",
       "      <th>3</th>\n",
       "      <td>5649</td>\n",
       "      <td>Delhi</td>\n",
       "      <td>Female</td>\n",
       "      <td>Mrs</td>\n",
       "      <td>pooja @aafrin</td>\n",
       "      <td>YES</td>\n",
       "      <td>2</td>\n",
       "      <td>Sales</td>\n",
       "      <td>Car</td>\n",
       "      <td>4</td>\n",
       "      <td>1</td>\n",
       "      <td>None</td>\n",
       "      <td>31</td>\n",
       "      <td>12</td>\n",
       "      <td>&lt;300</td>\n",
       "      <td>Elevated</td>\n",
       "      <td>206</td>\n",
       "      <td>78</td>\n",
       "      <td>83</td>\n",
       "      <td>211</td>\n",
       "      <td>87</td>\n",
       "      <td>52</td>\n",
       "      <td>13</td>\n",
       "      <td>6</td>\n",
       "      <td>3100000</td>\n",
       "      <td>600000</td>\n",
       "      <td>2</td>\n",
       "    </tr>\n",
       "    <tr>\n",
       "      <th>4</th>\n",
       "      <td>5099</td>\n",
       "      <td>Delhi</td>\n",
       "      <td>Female</td>\n",
       "      <td>Mrs</td>\n",
       "      <td>anjali</td>\n",
       "      <td>YES</td>\n",
       "      <td>2</td>\n",
       "      <td>Business</td>\n",
       "      <td>Car</td>\n",
       "      <td>4</td>\n",
       "      <td>1</td>\n",
       "      <td>Diabetes</td>\n",
       "      <td>51</td>\n",
       "      <td>6</td>\n",
       "      <td>&lt;200</td>\n",
       "      <td>Stage-01</td>\n",
       "      <td>229</td>\n",
       "      <td>109</td>\n",
       "      <td>207</td>\n",
       "      <td>312</td>\n",
       "      <td>94</td>\n",
       "      <td>68</td>\n",
       "      <td>39</td>\n",
       "      <td>5</td>\n",
       "      <td>2300000</td>\n",
       "      <td>1500000</td>\n",
       "      <td>1</td>\n",
       "    </tr>\n",
       "  </tbody>\n",
       "</table>\n",
       "</div>"
      ],
      "text/plain": [
       "   people_ID Region  Gender Designation                Name Married  Children  \\\n",
       "0       5942  Delhi  Female         Mrs  smt rekha prajapat     YES         2   \n",
       "1      18664  Delhi    Male          Mr              nirmal     YES         2   \n",
       "2       5603  Delhi  Female         Mrs               pinky     YES         2   \n",
       "3       5649  Delhi  Female         Mrs       pooja @aafrin     YES         2   \n",
       "4       5099  Delhi  Female         Mrs              anjali     YES         2   \n",
       "\n",
       "  Occupation Mode_transport  cases/1M  Deaths/1M comorbidity  Age  Coma score  \\\n",
       "0     Driver         Public         4          1    Diabetes   52           3   \n",
       "1      Legal           Walk         4          1    Diabetes   53          11   \n",
       "2      Sales            Car         4          1    Diabetes   35           9   \n",
       "3      Sales            Car         4          1        None   31          12   \n",
       "4   Business            Car         4          1    Diabetes   51           6   \n",
       "\n",
       "  Pulmonary score cardiological pressure  Diuresis  Platelets  HBB  d-dimer  \\\n",
       "0            <200               Stage-01       388        153  196      240   \n",
       "1            <200               Stage-01       409         95  138      241   \n",
       "2            <100               Stage-02       440         40  166      236   \n",
       "3            <300               Elevated       206         78   83      211   \n",
       "4            <200               Stage-01       229        109  207      312   \n",
       "\n",
       "   Heart rate  HDL cholesterol  Charlson Index  Blood Glucose  Insurance  \\\n",
       "0          85               53              17              3    3900000   \n",
       "1          81               61               2              5    1800000   \n",
       "2          88               47              24              3    5000000   \n",
       "3          87               52              13              6    3100000   \n",
       "4          94               68              39              5    2300000   \n",
       "\n",
       "    salary  FT/month  \n",
       "0  1300000         1  \n",
       "1  1300000         1  \n",
       "2  2000000         2  \n",
       "3   600000         2  \n",
       "4  1500000         1  "
      ]
     },
     "execution_count": 369,
     "metadata": {},
     "output_type": "execute_result"
    }
   ],
   "source": [
    "# lets See values in columns of dataset \n",
    "df_to_predict.head()"
   ]
  },
  {
   "cell_type": "code",
   "execution_count": 370,
   "metadata": {},
   "outputs": [
    {
     "data": {
      "text/html": [
       "<div>\n",
       "<style scoped>\n",
       "    .dataframe tbody tr th:only-of-type {\n",
       "        vertical-align: middle;\n",
       "    }\n",
       "\n",
       "    .dataframe tbody tr th {\n",
       "        vertical-align: top;\n",
       "    }\n",
       "\n",
       "    .dataframe thead th {\n",
       "        text-align: right;\n",
       "    }\n",
       "</style>\n",
       "<table border=\"1\" class=\"dataframe\">\n",
       "  <thead>\n",
       "    <tr style=\"text-align: right;\">\n",
       "      <th></th>\n",
       "      <th>people_ID</th>\n",
       "      <th>Region</th>\n",
       "      <th>Gender</th>\n",
       "      <th>Designation</th>\n",
       "      <th>Name</th>\n",
       "      <th>Married</th>\n",
       "      <th>Children</th>\n",
       "      <th>Occupation</th>\n",
       "      <th>Mode_transport</th>\n",
       "      <th>cases/1M</th>\n",
       "      <th>Deaths/1M</th>\n",
       "      <th>comorbidity</th>\n",
       "      <th>Age</th>\n",
       "      <th>Coma score</th>\n",
       "      <th>Pulmonary score</th>\n",
       "      <th>cardiological pressure</th>\n",
       "      <th>Diuresis</th>\n",
       "      <th>Platelets</th>\n",
       "      <th>HBB</th>\n",
       "      <th>d-dimer</th>\n",
       "      <th>Heart rate</th>\n",
       "      <th>HDL cholesterol</th>\n",
       "      <th>Charlson Index</th>\n",
       "      <th>Blood Glucose</th>\n",
       "      <th>Insurance</th>\n",
       "      <th>salary</th>\n",
       "      <th>FT/month</th>\n",
       "      <th>Infect_Prob</th>\n",
       "    </tr>\n",
       "  </thead>\n",
       "  <tbody>\n",
       "    <tr>\n",
       "      <th>0</th>\n",
       "      <td>1</td>\n",
       "      <td>Bhubaneshwar</td>\n",
       "      <td>Female</td>\n",
       "      <td>Mrs</td>\n",
       "      <td>mansi</td>\n",
       "      <td>YES</td>\n",
       "      <td>1.0</td>\n",
       "      <td>Farmer</td>\n",
       "      <td>Public</td>\n",
       "      <td>2</td>\n",
       "      <td>0</td>\n",
       "      <td>Hypertension</td>\n",
       "      <td>68</td>\n",
       "      <td>8</td>\n",
       "      <td>&lt;400</td>\n",
       "      <td>Normal</td>\n",
       "      <td>441.0</td>\n",
       "      <td>154.0</td>\n",
       "      <td>93.0</td>\n",
       "      <td>233.0</td>\n",
       "      <td>82.0</td>\n",
       "      <td>58.0</td>\n",
       "      <td>27</td>\n",
       "      <td>7</td>\n",
       "      <td>3600000.0</td>\n",
       "      <td>1300000</td>\n",
       "      <td>2.0</td>\n",
       "      <td>49.135010</td>\n",
       "    </tr>\n",
       "    <tr>\n",
       "      <th>2</th>\n",
       "      <td>3</td>\n",
       "      <td>Bhubaneshwar</td>\n",
       "      <td>Female</td>\n",
       "      <td>Mrs</td>\n",
       "      <td>sunita</td>\n",
       "      <td>NO</td>\n",
       "      <td>1.0</td>\n",
       "      <td>Cleaner</td>\n",
       "      <td>Public</td>\n",
       "      <td>2</td>\n",
       "      <td>0</td>\n",
       "      <td>None</td>\n",
       "      <td>19</td>\n",
       "      <td>13</td>\n",
       "      <td>&lt;300</td>\n",
       "      <td>Elevated</td>\n",
       "      <td>416.0</td>\n",
       "      <td>124.0</td>\n",
       "      <td>137.0</td>\n",
       "      <td>213.0</td>\n",
       "      <td>77.0</td>\n",
       "      <td>43.0</td>\n",
       "      <td>40</td>\n",
       "      <td>6</td>\n",
       "      <td>3400000.0</td>\n",
       "      <td>900000</td>\n",
       "      <td>1.0</td>\n",
       "      <td>73.224000</td>\n",
       "    </tr>\n",
       "    <tr>\n",
       "      <th>3</th>\n",
       "      <td>4</td>\n",
       "      <td>Bhubaneshwar</td>\n",
       "      <td>Female</td>\n",
       "      <td>Mrs</td>\n",
       "      <td>anjali @ babli</td>\n",
       "      <td>YES</td>\n",
       "      <td>1.0</td>\n",
       "      <td>Driver</td>\n",
       "      <td>Car</td>\n",
       "      <td>2</td>\n",
       "      <td>0</td>\n",
       "      <td>Coronary Heart Disease</td>\n",
       "      <td>33</td>\n",
       "      <td>9</td>\n",
       "      <td>&lt;200</td>\n",
       "      <td>Stage-01</td>\n",
       "      <td>410.0</td>\n",
       "      <td>98.0</td>\n",
       "      <td>167.0</td>\n",
       "      <td>275.0</td>\n",
       "      <td>64.0</td>\n",
       "      <td>60.0</td>\n",
       "      <td>27</td>\n",
       "      <td>7</td>\n",
       "      <td>700000.0</td>\n",
       "      <td>2300000</td>\n",
       "      <td>1.0</td>\n",
       "      <td>48.779225</td>\n",
       "    </tr>\n",
       "    <tr>\n",
       "      <th>4</th>\n",
       "      <td>5</td>\n",
       "      <td>Bhubaneshwar</td>\n",
       "      <td>Female</td>\n",
       "      <td>Mrs</td>\n",
       "      <td>champa karketta</td>\n",
       "      <td>NO</td>\n",
       "      <td>2.0</td>\n",
       "      <td>Manufacturing</td>\n",
       "      <td>Car</td>\n",
       "      <td>2</td>\n",
       "      <td>0</td>\n",
       "      <td>Diabetes</td>\n",
       "      <td>23</td>\n",
       "      <td>7</td>\n",
       "      <td>&lt;400</td>\n",
       "      <td>Normal</td>\n",
       "      <td>390.0</td>\n",
       "      <td>21.0</td>\n",
       "      <td>153.0</td>\n",
       "      <td>331.0</td>\n",
       "      <td>71.0</td>\n",
       "      <td>64.0</td>\n",
       "      <td>32</td>\n",
       "      <td>7</td>\n",
       "      <td>3200000.0</td>\n",
       "      <td>1100000</td>\n",
       "      <td>1.0</td>\n",
       "      <td>87.868800</td>\n",
       "    </tr>\n",
       "    <tr>\n",
       "      <th>5</th>\n",
       "      <td>6</td>\n",
       "      <td>Bhubaneshwar</td>\n",
       "      <td>Female</td>\n",
       "      <td>Mrs</td>\n",
       "      <td>sandhya</td>\n",
       "      <td>YES</td>\n",
       "      <td>1.0</td>\n",
       "      <td>Clerk</td>\n",
       "      <td>Public</td>\n",
       "      <td>2</td>\n",
       "      <td>0</td>\n",
       "      <td>None</td>\n",
       "      <td>35</td>\n",
       "      <td>9</td>\n",
       "      <td>&lt;100</td>\n",
       "      <td>Stage-02</td>\n",
       "      <td>389.0</td>\n",
       "      <td>139.0</td>\n",
       "      <td>86.0</td>\n",
       "      <td>216.0</td>\n",
       "      <td>94.0</td>\n",
       "      <td>38.0</td>\n",
       "      <td>5</td>\n",
       "      <td>5</td>\n",
       "      <td>4600000.0</td>\n",
       "      <td>1900000</td>\n",
       "      <td>2.0</td>\n",
       "      <td>49.518345</td>\n",
       "    </tr>\n",
       "  </tbody>\n",
       "</table>\n",
       "</div>"
      ],
      "text/plain": [
       "   people_ID        Region  Gender Designation             Name Married  \\\n",
       "0          1  Bhubaneshwar  Female         Mrs            mansi     YES   \n",
       "2          3  Bhubaneshwar  Female         Mrs           sunita      NO   \n",
       "3          4  Bhubaneshwar  Female         Mrs   anjali @ babli     YES   \n",
       "4          5  Bhubaneshwar  Female         Mrs  champa karketta      NO   \n",
       "5          6  Bhubaneshwar  Female         Mrs          sandhya     YES   \n",
       "\n",
       "   Children     Occupation Mode_transport  cases/1M  Deaths/1M  \\\n",
       "0       1.0         Farmer         Public         2          0   \n",
       "2       1.0        Cleaner         Public         2          0   \n",
       "3       1.0         Driver            Car         2          0   \n",
       "4       2.0  Manufacturing            Car         2          0   \n",
       "5       1.0          Clerk         Public         2          0   \n",
       "\n",
       "              comorbidity  Age  Coma score Pulmonary score  \\\n",
       "0            Hypertension   68           8            <400   \n",
       "2                    None   19          13            <300   \n",
       "3  Coronary Heart Disease   33           9            <200   \n",
       "4                Diabetes   23           7            <400   \n",
       "5                    None   35           9            <100   \n",
       "\n",
       "  cardiological pressure  Diuresis  Platelets    HBB  d-dimer  Heart rate  \\\n",
       "0                 Normal     441.0      154.0   93.0    233.0        82.0   \n",
       "2               Elevated     416.0      124.0  137.0    213.0        77.0   \n",
       "3               Stage-01     410.0       98.0  167.0    275.0        64.0   \n",
       "4                 Normal     390.0       21.0  153.0    331.0        71.0   \n",
       "5               Stage-02     389.0      139.0   86.0    216.0        94.0   \n",
       "\n",
       "   HDL cholesterol  Charlson Index  Blood Glucose  Insurance   salary  \\\n",
       "0             58.0              27              7  3600000.0  1300000   \n",
       "2             43.0              40              6  3400000.0   900000   \n",
       "3             60.0              27              7   700000.0  2300000   \n",
       "4             64.0              32              7  3200000.0  1100000   \n",
       "5             38.0               5              5  4600000.0  1900000   \n",
       "\n",
       "   FT/month  Infect_Prob  \n",
       "0       2.0    49.135010  \n",
       "2       1.0    73.224000  \n",
       "3       1.0    48.779225  \n",
       "4       1.0    87.868800  \n",
       "5       2.0    49.518345  "
      ]
     },
     "execution_count": 370,
     "metadata": {},
     "output_type": "execute_result"
    }
   ],
   "source": [
    "pd.set_option('display.max_columns',None)\n",
    "df_train.head()\n"
   ]
  },
  {
   "cell_type": "markdown",
   "metadata": {},
   "source": [
    "# lets clean the data"
   ]
  },
  {
   "cell_type": "code",
   "execution_count": 371,
   "metadata": {},
   "outputs": [
    {
     "data": {
      "text/plain": [
       "Mr     7392\n",
       "Mrs    7106\n",
       "Name: Designation, dtype: int64"
      ]
     },
     "execution_count": 371,
     "metadata": {},
     "output_type": "execute_result"
    }
   ],
   "source": [
    "df_to_predict[\"Designation\"].value_counts()\n",
    "\n",
    "\n"
   ]
  },
  {
   "cell_type": "code",
   "execution_count": 372,
   "metadata": {},
   "outputs": [],
   "source": [
    "df_train.Designation.replace(['Mr','Mrs'], [0,1], inplace=True)\n",
    "df_to_predict.Designation.replace(['Mr','Mrs'], [0,1], inplace=True)\n",
    "df_train[\"Designation\"] = df_train[\"Designation\"].astype(int)\n",
    "df_to_predict[\"Designation\"] = df_to_predict[\"Designation\"].astype(int)\n"
   ]
  },
  {
   "cell_type": "code",
   "execution_count": 373,
   "metadata": {},
   "outputs": [
    {
     "data": {
      "text/plain": [
       "1    3402\n",
       "0    3375\n",
       "Name: Designation, dtype: int64"
      ]
     },
     "execution_count": 373,
     "metadata": {},
     "output_type": "execute_result"
    }
   ],
   "source": [
    "df_train[\"Designation\"].value_counts()"
   ]
  },
  {
   "cell_type": "code",
   "execution_count": 374,
   "metadata": {},
   "outputs": [
    {
     "data": {
      "text/plain": [
       "Male      7392\n",
       "Female    7106\n",
       "Name: Gender, dtype: int64"
      ]
     },
     "execution_count": 374,
     "metadata": {},
     "output_type": "execute_result"
    }
   ],
   "source": [
    "df_to_predict[\"Gender\"].value_counts()\n"
   ]
  },
  {
   "cell_type": "code",
   "execution_count": 375,
   "metadata": {},
   "outputs": [],
   "source": [
    "df_train.Gender.replace(['Male','Female'], [0,1], inplace=True)\n",
    "df_to_predict.Gender.replace(['Male','Female'], [0,1], inplace=True)\n",
    "df_train[\"Gender\"] = df_train[\"Gender\"].astype(int)\n",
    "df_to_predict[\"Gender\"] = df_to_predict[\"Gender\"].astype(int)\n"
   ]
  },
  {
   "cell_type": "code",
   "execution_count": 376,
   "metadata": {},
   "outputs": [
    {
     "data": {
      "text/plain": [
       "1    3402\n",
       "0    3375\n",
       "Name: Gender, dtype: int64"
      ]
     },
     "execution_count": 376,
     "metadata": {},
     "output_type": "execute_result"
    }
   ],
   "source": [
    "df_train[\"Gender\"].value_counts()"
   ]
  },
  {
   "cell_type": "code",
   "execution_count": 377,
   "metadata": {},
   "outputs": [
    {
     "data": {
      "text/plain": [
       "YES    11487\n",
       "NO      3011\n",
       "Name: Married, dtype: int64"
      ]
     },
     "execution_count": 377,
     "metadata": {},
     "output_type": "execute_result"
    }
   ],
   "source": [
    "df_to_predict[\"Married\"].value_counts()\n"
   ]
  },
  {
   "cell_type": "code",
   "execution_count": 378,
   "metadata": {},
   "outputs": [],
   "source": [
    "df_train.Married.replace(['YES','NO'], [1,0], inplace=True)\n",
    "df_to_predict.Married.replace(['YES','NO'], [1,0], inplace=True)\n",
    "df_train[\"Married\"] = df_train[\"Married\"].astype(int)\n",
    "df_to_predict[\"Married\"] = df_to_predict[\"Married\"].astype(int)\n"
   ]
  },
  {
   "cell_type": "code",
   "execution_count": 379,
   "metadata": {},
   "outputs": [
    {
     "data": {
      "text/plain": [
       "1    5260\n",
       "0    1517\n",
       "Name: Married, dtype: int64"
      ]
     },
     "execution_count": 379,
     "metadata": {},
     "output_type": "execute_result"
    }
   ],
   "source": [
    "df_train[\"Married\"].value_counts()"
   ]
  },
  {
   "cell_type": "code",
   "execution_count": 380,
   "metadata": {},
   "outputs": [
    {
     "data": {
      "text/plain": [
       "Researcher       1705\n",
       "Sales            1638\n",
       "Driver           1621\n",
       "Clerk            1620\n",
       "Business         1611\n",
       "Farmer           1591\n",
       "Cleaner          1586\n",
       "Legal            1563\n",
       "Manufacturing    1563\n",
       "Name: Occupation, dtype: int64"
      ]
     },
     "execution_count": 380,
     "metadata": {},
     "output_type": "execute_result"
    }
   ],
   "source": [
    "df_to_predict[\"Occupation\"].value_counts()\n"
   ]
  },
  {
   "cell_type": "code",
   "execution_count": 381,
   "metadata": {},
   "outputs": [],
   "source": [
    "df_train.Occupation.replace(['Legal','Farmer','Researcher','Manufacturing','Cleaner','Driver','Sales','Clerk','Business'], [7,5,0,8,6,2,1,3,4], inplace=True)\n",
    "df_to_predict.Occupation.replace(['Researcher','Sales','Driver','Clerk','Business','Farmer','Cleaner','Legal','Manufacturing'], [0,1,2,3,4,5,6,7,8], inplace=True)\n",
    "df_train[\"Occupation\"] = df_train[\"Occupation\"].astype(int)\n",
    "df_to_predict[\"Occupation\"] = df_to_predict[\"Occupation\"].astype(int)\n"
   ]
  },
  {
   "cell_type": "code",
   "execution_count": 382,
   "metadata": {},
   "outputs": [
    {
     "data": {
      "text/plain": [
       "7    795\n",
       "5    786\n",
       "0    772\n",
       "8    769\n",
       "6    751\n",
       "2    738\n",
       "1    732\n",
       "3    721\n",
       "4    713\n",
       "Name: Occupation, dtype: int64"
      ]
     },
     "execution_count": 382,
     "metadata": {},
     "output_type": "execute_result"
    }
   ],
   "source": [
    "df_train[\"Occupation\"].value_counts()"
   ]
  },
  {
   "cell_type": "code",
   "execution_count": 383,
   "metadata": {},
   "outputs": [
    {
     "data": {
      "text/plain": [
       "Pune                  2503\n",
       "Thiruvananthapuram    2502\n",
       "Kolkata               2483\n",
       "Mumbai                2475\n",
       "Hyderabad             2457\n",
       "Delhi                 2078\n",
       "Name: Region, dtype: int64"
      ]
     },
     "execution_count": 383,
     "metadata": {},
     "output_type": "execute_result"
    }
   ],
   "source": [
    "df_to_predict[\"Region\"].value_counts()\n"
   ]
  },
  {
   "cell_type": "code",
   "execution_count": null,
   "metadata": {},
   "outputs": [],
   "source": [
    "df_train.Region.replace(['Bengaluru','Chandigarh','Bhubaneshwar','Chennai','Delhi',], [0,1,2,3,4], inplace=True)\n",
    "df_to_predict.Region.replace(['Pune','Thiruvananthapuram','Kolkata',''], [1,0], inplace=True)\n",
    "df_train[\"Region\"] = df_train[\"Region\"].astype(int)\n",
    "df_to_predict[\"Region\"] = df_to_predict[\"Region\"].astype(int)"
   ]
  },
  {
   "cell_type": "code",
   "execution_count": 390,
   "metadata": {},
   "outputs": [
    {
     "data": {
      "text/plain": [
       "Bengaluru       1661\n",
       "Chandigarh      1658\n",
       "Bhubaneshwar    1627\n",
       "Chennai         1606\n",
       "Delhi            225\n",
       "Name: Region, dtype: int64"
      ]
     },
     "execution_count": 390,
     "metadata": {},
     "output_type": "execute_result"
    }
   ],
   "source": [
    "df_train[\"Region\"].value_counts()"
   ]
  },
  {
   "cell_type": "code",
   "execution_count": 384,
   "metadata": {},
   "outputs": [
    {
     "data": {
      "text/plain": [
       "Car       4880\n",
       "Walk      4834\n",
       "Public    4784\n",
       "Name: Mode_transport, dtype: int64"
      ]
     },
     "execution_count": 384,
     "metadata": {},
     "output_type": "execute_result"
    }
   ],
   "source": [
    "df_to_predict[\"Mode_transport\"].value_counts()\n"
   ]
  },
  {
   "cell_type": "code",
   "execution_count": 385,
   "metadata": {},
   "outputs": [],
   "source": [
    "df_train.Mode_transport.replace(['Walk','Public','Car'], [1,2,0], inplace=True)\n",
    "df_to_predict.Mode_transport.replace(['Car','Walk','Public'], [0,1,2], inplace=True)\n",
    "df_train[\"Mode_transport\"] = df_train[\"Mode_transport\"].astype(int)\n",
    "df_to_predict[\"Mode_transport\"] = df_to_predict[\"Mode_transport\"].astype(int)\n"
   ]
  },
  {
   "cell_type": "code",
   "execution_count": 386,
   "metadata": {},
   "outputs": [
    {
     "data": {
      "text/plain": [
       "1    2338\n",
       "2    2229\n",
       "0    2210\n",
       "Name: Mode_transport, dtype: int64"
      ]
     },
     "execution_count": 386,
     "metadata": {},
     "output_type": "execute_result"
    }
   ],
   "source": [
    "df_train[\"Mode_transport\"].value_counts()"
   ]
  },
  {
   "cell_type": "code",
   "execution_count": 389,
   "metadata": {},
   "outputs": [],
   "source": [
    "df_train=df_train.drop(['Name',\"people_ID\",'comorbidity','cardiological pressure',],axis=1)\n",
    "df_to_predict=df_to_predict.drop(['Name',\"people_ID\",'Region','comorbidity','cardiological pressure'],axis=1)"
   ]
  },
  {
   "cell_type": "code",
   "execution_count": null,
   "metadata": {},
   "outputs": [],
   "source": [
    "df_train"
   ]
  },
  {
   "cell_type": "code",
   "execution_count": null,
   "metadata": {},
   "outputs": [],
   "source": [
    "# We created X and y columns for training dataset while y column for dataset to predict will\n",
    "# be generated by our model in final step\n",
    "X = df_train.drop([\"Infect_Prob\"], axis=1)\n",
    "#y = np.log1p(df_train['Infect_prob'])\n",
    "y = df_train[\"Infect_Prob\"]\n",
    "X_to_predict = df_to_predict"
   ]
  },
  {
   "cell_type": "code",
   "execution_count": null,
   "metadata": {},
   "outputs": [],
   "source": [
    "X.head()"
   ]
  },
  {
   "cell_type": "code",
   "execution_count": null,
   "metadata": {},
   "outputs": [],
   "source": [
    "#Separate categorical and numerical columns in dataframe\n",
    "X_categorical = X.select_dtypes(exclude=['int', 'float'])\n",
    "X_numerical = X.select_dtypes(include=['int', 'float'])\n",
    "\n",
    "X_to_predict_categorical = X_to_predict.select_dtypes(exclude=['int', 'float'])\n",
    "X_to_predict_numerical = X_to_predict.select_dtypes(include=['int', 'float'])"
   ]
  },
  {
   "cell_type": "code",
   "execution_count": null,
   "metadata": {},
   "outputs": [],
   "source": [
    "# Check if categorical columns are assigned properly\n",
    "X_categorical.head()\n",
    "\n",
    "#Create a back up copy specifically for plotting graphs\n",
    "X_numerical_graph = X_numerical.copy()\n",
    "X_categorical_graph = X_categorical.copy()"
   ]
  },
  {
   "cell_type": "code",
   "execution_count": null,
   "metadata": {},
   "outputs": [],
   "source": [
    "#Check if numerical columns are assigned properly\n",
    "X_categorical.shape"
   ]
  },
  {
   "cell_type": "code",
   "execution_count": null,
   "metadata": {},
   "outputs": [],
   "source": [
    "X_numerical.head()"
   ]
  },
  {
   "cell_type": "code",
   "execution_count": null,
   "metadata": {},
   "outputs": [],
   "source": [
    "X_numerical.shape"
   ]
  },
  {
   "cell_type": "code",
   "execution_count": null,
   "metadata": {},
   "outputs": [],
   "source": [
    "#Label encode and hot encode categorical columns\n",
    "from sklearn.preprocessing import LabelEncoder\n",
    "le = LabelEncoder()\n",
    "X_categorical = X_categorical.apply(LabelEncoder().fit_transform)\n",
    "X_to_predict_categorical = X_to_predict_categorical.apply(LabelEncoder().fit_transform)"
   ]
  },
  {
   "cell_type": "code",
   "execution_count": null,
   "metadata": {},
   "outputs": [],
   "source": [
    "#Check values after label encoding\n",
    "X_categorical.head()"
   ]
  },
  {
   "cell_type": "code",
   "execution_count": null,
   "metadata": {},
   "outputs": [],
   "source": [
    "# Check the skew of all numerical features\n",
    "from scipy.stats import skew\n",
    "skewed_feats = X_numerical.apply(lambda x: skew(x.dropna())).sort_values(ascending=False)\n",
    "print(\"\\nSkew in numerical features: \\n\")\n",
    "skewness = pd.DataFrame({'Skew' :skewed_feats})\n",
    "skewness.head(10)\n",
    "skewness = skewness[abs(skewness) > 0.75]\n",
    "print(\"There are {} skewed numerical features to Box Cox transform\".format(skewness.shape[0]))"
   ]
  },
  {
   "cell_type": "code",
   "execution_count": null,
   "metadata": {},
   "outputs": [],
   "source": [
    "#Merge categorical and numerical columns back into respective X and X_to_predict\n",
    "X = pd.concat([X_categorical, X_numerical], axis=1)\n",
    "X_to_predict = pd.concat([X_to_predict_categorical, X_to_predict_numerical], axis=1)"
   ]
  },
  {
   "cell_type": "code",
   "execution_count": null,
   "metadata": {},
   "outputs": [],
   "source": [
    "#Check shape of all three to verify that merge was done properly in above step\n",
    "print(X.shape, X_numerical.shape, X_categorical.shape)\n",
    "print(X_to_predict.shape, X_to_predict_numerical.shape, X_to_predict_categorical.shape)\n",
    "print(y.shape)"
   ]
  },
  {
   "cell_type": "code",
   "execution_count": 447,
   "metadata": {},
   "outputs": [],
   "source": [
    "from sklearn.model_selection import train_test_split\n",
    "from sklearn import metrics\n",
    "import numpy as np\n",
    "from sklearn.metrics import mean_squared_log_error\n",
    "# We have created a function to print accuracy metrics which can be used\n",
    "# to get accuracy metrics of all models in upcoming steps\n",
    "def print_accuracy_report(y_test, y_pred,X_test, model):\n",
    "    print('R Squared(Accuracy)', metrics.r2_score(y_test, y_pred))   \n",
    "    print('Mean Absolute Error:', metrics.mean_absolute_error(y_test, y_pred))  \n",
    "    print('Mean Squared Error:', metrics.mean_squared_error(y_test, y_pred))\n",
    "    print('Root Mean Squared Error:', np.sqrt(metrics.mean_squared_error(y_test, y_pred)))\n",
    "    print('Root Mean Squared Log Error',np.sqrt(mean_squared_log_error( y_test, y_pred )))"
   ]
  },
  {
   "cell_type": "code",
   "execution_count": 448,
   "metadata": {},
   "outputs": [
    {
     "name": "stdout",
     "output_type": "stream",
     "text": [
      "R Squared(Accuracy) 0.2838583898352073\n",
      "Mean Absolute Error: 4.854759440751334\n",
      "Mean Squared Error: 90.32772353227921\n",
      "Root Mean Squared Error: 9.504089831871289\n",
      "Root Mean Squared Log Error 0.16096380915494474\n",
      "None\n"
     ]
    }
   ],
   "source": [
    "# now lets try LinearRegressionModel\n",
    "from sklearn.linear_model import LinearRegression\n",
    "from sklearn.metrics import accuracy_score\n",
    "def LinearRegressionModel(X,y):\n",
    "    X_train, X_test, y_train, y_test = train_test_split(X, y,random_state=42, test_size=0.3)\n",
    "    regressor = LinearRegression()  \n",
    "    regressor.fit(X_train, y_train)\n",
    "    y_pred = regressor.predict(X_test)\n",
    "    print(print_accuracy_report(y_test, y_pred, X_test, regressor))\n",
    "    return regressor\n",
    "linearModel = LinearRegressionModel(X,y)"
   ]
  },
  {
   "cell_type": "code",
   "execution_count": null,
   "metadata": {},
   "outputs": [],
   "source": [
    "# we have created a function to generate linear regression model\n",
    "# which can then be called again after feature selection or other steps\n",
    "from sklearn.linear_model import BayesianRidge\n",
    "from sklearn.metrics import accuracy_score\n",
    "def BayesianRidgeModel(X,y):\n",
    "    X_train, X_test, y_train, y_test = train_test_split(X, y,random_state=42, test_size=0.3)\n",
    "    regressor = BayesianRidge()  \n",
    "    regressor.fit(X_train, y_train)\n",
    "    y_pred = regressor.predict(X_test)\n",
    "    print(print_accuracy_report(y_test, y_pred, X_test, regressor))\n",
    "    return regressor\n",
    "linearModel = BayesianRidgeModel(X,y)"
   ]
  },
  {
   "cell_type": "code",
   "execution_count": null,
   "metadata": {},
   "outputs": [],
   "source": [
    "#similarly define a function for random forest regressor\n",
    "from sklearn.ensemble import RandomForestRegressor\n",
    "def RandomForestRegressorModel(X,y):\n",
    "    X_train, X_test, y_train, y_test = train_test_split(X, y,random_state=42, test_size=0.3)\n",
    "    rf = RandomForestRegressor(random_state=42)\n",
    "    rf.fit(X_train, y_train)\n",
    "    y_pred = rf.predict(X_test)\n",
    "    print(print_accuracy_report(y_test, y_pred, X_test, rf))\n",
    "    return rf\n",
    "randomForestModel = RandomForestRegressorModel(X,y)"
   ]
  },
  {
   "cell_type": "code",
   "execution_count": null,
   "metadata": {},
   "outputs": [],
   "source": [
    "# get feature importances from a model\n",
    "import matplotlib.pyplot as plt\n",
    "def plotFeatureImportances(model):\n",
    "    #first print all features importances in descending order\n",
    "    feature_importances = pd.DataFrame(model.feature_importances_,\n",
    "                                   index = X.columns,\n",
    "                                    columns=['importance']).sort_values('importance',ascending=False)\n",
    "    print(feature_importances)\n",
    "    # Next plot feature importances to get idea about where the curve breaks\n",
    "    # in the graph i.e. select top appropriate features\n",
    "    features = X.columns.tolist()\n",
    "    importances = model.feature_importances_\n",
    "    indices = np.argsort(importances)\n",
    "    plt.title('Feature Importances')\n",
    "    plt.barh(range(len(indices)), importances[indices], color='b', align='center')\n",
    "    plt.yticks(range(len(indices)), [features[i] for i in indices])\n",
    "    plt.xlabel('Relative Importance')\n",
    "    plt.show()"
   ]
  },
  {
   "cell_type": "code",
   "execution_count": 388,
   "metadata": {},
   "outputs": [
    {
     "name": "stdout",
     "output_type": "stream",
     "text": [
      "                 importance\n",
      "Age                0.288254\n",
      "d-dimer            0.071301\n",
      "HBB                0.059459\n",
      "Diuresis           0.057692\n",
      "HDL cholesterol    0.053866\n",
      "Heart rate         0.053043\n",
      "Platelets          0.048765\n",
      "Charlson Index     0.047797\n",
      "salary             0.040581\n",
      "Children           0.040344\n",
      "Insurance          0.040324\n",
      "Coma score         0.035706\n",
      "Occupation         0.031626\n",
      "cases/1M           0.025506\n",
      "Blood Glucose      0.024484\n",
      "Deaths/1M          0.021917\n",
      "Pulmonary score    0.018009\n",
      "Mode_transport     0.015979\n",
      "FT/month           0.014984\n",
      "Gender             0.004024\n",
      "Designation        0.003946\n",
      "Married            0.002391\n"
     ]
    },
    {
     "data": {
      "image/png": "[encoded data removed]",
      "text/plain": [
       "<Figure size 432x288 with 1 Axes>"
      ]
     },
     "metadata": {},
     "output_type": "display_data"
    }
   ],
   "source": [
    "plotFeatureImportances(randomForestModel)"
   ]
  },
  {
   "cell_type": "code",
   "execution_count": null,
   "metadata": {},
   "outputs": [],
   "source": []
  },
  {
   "cell_type": "code",
   "execution_count": null,
   "metadata": {},
   "outputs": [],
   "source": []
  },
  {
   "cell_type": "code",
   "execution_count": null,
   "metadata": {},
   "outputs": [],
   "source": []
  }
 ],
 "metadata": {
  "kernelspec": {
   "display_name": "Python 3",
   "language": "python",
   "name": "python3"
  },
  "language_info": {
   "codemirror_mode": {
    "name": "ipython",
    "version": 3
   },
   "file_extension": ".py",
   "mimetype": "text/x-python",
   "name": "python",
   "nbconvert_exporter": "python",
   "pygments_lexer": "ipython3",
   "version": "3.6.5"
  }
 },
 "nbformat": 4,
 "nbformat_minor": 2
}
